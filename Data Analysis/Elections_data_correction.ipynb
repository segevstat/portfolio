{
  "nbformat": 4,
  "nbformat_minor": 0,
  "metadata": {
    "colab": {
      "name": "Elections data correction.ipynb",
      "provenance": [],
      "collapsed_sections": []
    },
    "kernelspec": {
      "display_name": "Python 3",
      "language": "python",
      "name": "python3"
    },
    "language_info": {
      "codemirror_mode": {
        "name": "ipython",
        "version": 3
      },
      "file_extension": ".py",
      "mimetype": "text/x-python",
      "name": "python",
      "nbconvert_exporter": "python",
      "pygments_lexer": "ipython3",
      "version": "3.7.4"
    }
  },
  "cells": [
    {
      "cell_type": "markdown",
      "metadata": {
        "id": "4MCDSsxHGNLs"
      },
      "source": [
        "\n",
        "#תיקון אחוזי הצבעה + הצגת הצבעה על פי משתנים סוציו-אקונומיים\n"
      ]
    },
    {
      "cell_type": "code",
      "metadata": {
        "id": "eRKSr5EstAUm",
        "colab": {
          "base_uri": "https://localhost:8080/"
        },
        "outputId": "1b34a16c-f9ae-4104-c8a7-344788fcf15c"
      },
      "source": [
        "import numpy as np  # a module for working with numerical array \n",
        "import pandas as pd  # a module for working with data-frames\n",
        "from matplotlib import pyplot as plt\n",
        "import random\n",
        "import statsmodels.api as sm\n",
        "import io\n",
        "import matplotlib as mp\n",
        "import sys\n",
        "from scipy import stats\n",
        "import statsmodels.api as sm\n",
        "from matplotlib.pyplot import figure\n",
        "import random # Of random import sample # Q 2,a\n"
      ],
      "execution_count": null,
      "outputs": [
        {
          "output_type": "stream",
          "name": "stderr",
          "text": [
            "/usr/local/lib/python3.7/dist-packages/statsmodels/tools/_testing.py:19: FutureWarning: pandas.util.testing is deprecated. Use the functions in the public API at pandas.testing instead.\n",
            "  import pandas.util.testing as tm\n"
          ]
        }
      ]
    },
    {
      "cell_type": "code",
      "metadata": {
        "colab": {
          "resources": {
            "http://localhost:8080/nbextensions/google.colab/files.js": {
              "data": "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",
              "ok": true,
              "headers": [
                [
                  "content-type",
                  "application/javascript"
                ]
              ],
              "status": 200,
              "status_text": ""
            }
          },
          "base_uri": "https://localhost:8080/",
          "height": 123
        },
        "id": "RWSJpsyKqHjH",
        "outputId": "791c4332-2979-4635-c33e-4929eb10e787"
      },
      "source": [
        "# Add a check if we run in google colab or locally in jupyter notebook\n",
        "run_in_colab = False\n",
        "if 'google.colab' in str(get_ipython()):\n",
        "    run_in_colab = True\n",
        "    print('Running on CoLab')\n",
        "else:\n",
        "    print('Running locally on Jupyter')\n",
        "\n",
        " \n",
        "if run_in_colab:\n",
        "    from google.colab import files\n",
        "    uploaded = files.upload()"
      ],
      "execution_count": null,
      "outputs": [
        {
          "output_type": "stream",
          "name": "stdout",
          "text": [
            "Running on CoLab\n"
          ]
        },
        {
          "output_type": "display_data",
          "data": {
            "text/html": [
              "\n",
              "     <input type=\"file\" id=\"files-45a01026-278e-4962-8bcc-6b8168b20848\" name=\"files[]\" multiple disabled\n",
              "        style=\"border:none\" />\n",
              "     <output id=\"result-45a01026-278e-4962-8bcc-6b8168b20848\">\n",
              "      Upload widget is only available when the cell has been executed in the\n",
              "      current browser session. Please rerun this cell to enable.\n",
              "      </output>\n",
              "      <script src=\"/nbextensions/google.colab/files.js\"></script> "
            ],
            "text/plain": [
              "<IPython.core.display.HTML object>"
            ]
          },
          "metadata": {}
        },
        {
          "output_type": "stream",
          "name": "stdout",
          "text": [
            "Saving eshkol_hevrati_calcali.xlsx to eshkol_hevrati_calcali.xlsx\n",
            "Saving votes per ballot 2021.csv to votes per ballot 2021.csv\n"
          ]
        }
      ]
    },
    {
      "cell_type": "code",
      "metadata": {
        "id": "xaG-KYCw8XZz"
      },
      "source": [
        "# From previous lectures\n",
        "data_type = \"ballot\"  # city\n",
        "if   run_in_colab:\n",
        "    df_2021_raw = pd.read_csv(io.BytesIO(uploaded['votes per ballot 2021.csv']),  encoding = 'iso-8859-8', index_col='שם ישוב')\n",
        "else:  # read local file\n",
        "    if data_type == \"ballot\":\n",
        "        df_2021_raw = pd.read_csv(data_path + 'votes per ballot 2021.csv',  encoding = 'iso-8859-8', index_col='שם ישוב')\n",
        "        # preprocessing of ballot\n",
        "        df_2021 = df_2021_raw.drop('סמל ועדה', axis=1) # new column added in Sep 2019\n",
        "        df_2021 = df_2021[df_2021.columns[8:-1]] # removing \"metadata\" columns\n",
        "    else:\n",
        "        df_2021_raw = pd.read_csv(data_path + 'votes per city 2021.csv',  encoding = 'iso-8859-8', index_col='שם ישוב')\n",
        "        # preprocessing of cities \n",
        "        df_2021 = df_2021_raw.drop('סמל ועדה', axis=1) # new column added in Sep 2019\n",
        "        df_2021 = df_2021[df_2021.columns[5:-1]] # removing \"metadata\" columns\n",
        "# Dataset is now stored in a Pandas Dataframe\n",
        "df_2021_raw = df_2021_raw[df_2021_raw.index != 'מעטפות חיצוניות']\n",
        "\n",
        "# From previous lectures\n",
        "df_2021 = df_2021_raw\n",
        "df_2021 = df_2021[df_2021.columns[10:-1]] # removing \"metadata\" columns\n",
        "\n",
        "df_2021= df_2021.rename(columns={'אמת' : \"עבודה\", 'מרצ' : \"מרצ\",  'ג' : \"יהדות התורה\", 'עם'  : \"רעם\",  'ת'  : \"תקוה חדשה\", 'ודעם'  : \"הרשימה המשותפת\", 'ב'  : \"ימינה\", 'ט'  : \"הציונות הדתית\",\n",
        " 'ל'  : \"ישראל ביתנו\", 'מחל'  : \"הליכוד\",  'פה'  : \"יש עתיד\", 'כן'  : \"כחול לבן\", 'שס'  : \"שס\"})"
      ],
      "execution_count": null,
      "outputs": []
    },
    {
      "cell_type": "code",
      "metadata": {
        "id": "gvcZSFcX_w49"
      },
      "source": [
        "# using lab 3,2\n",
        "def parties_above_blocking_precentage(df, thresh):\n",
        "    par = df.sum().div(df.sum().sum()).sort_values(ascending=False)\n",
        "    return par[par > thresh]\n",
        "\n",
        "votes = parties_above_blocking_precentage(df_2021, 0.015)  # total votes for each party\n",
        "\n",
        "names = votes.keys() # 13 parties\n",
        "\n",
        "# Data with only the 13 relevant parties:\n",
        "df_2021_new = df_2021[names]"
      ],
      "execution_count": null,
      "outputs": []
    },
    {
      "cell_type": "markdown",
      "metadata": {
        "id": "86qhrpEjDHIB"
      },
      "source": [
        "## Question 1\n",
        "\n",
        "\n"
      ]
    },
    {
      "cell_type": "markdown",
      "metadata": {
        "id": "_bi8Y1M85EqM"
      },
      "source": [
        "Elections results correction"
      ]
    },
    {
      "cell_type": "markdown",
      "metadata": {
        "id": "f-2YUgWw7Kj5"
      },
      "source": [
        "![image.png](data:image/png;base64,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)"
      ]
    },
    {
      "cell_type": "code",
      "metadata": {
        "id": "MNw-9Bjb-c--"
      },
      "source": [
        "def ols_correction(dataframe, voters):\n",
        "    prob = dataframe.sum().div(dataframe.sum().sum()) \n",
        "    # a vector of probebilties for all parties which disaply the precentage, votes without correction of lab 3\n",
        "    suffragiums = dataframe.sum(axis=1) / voters \n",
        "    # as required as a fix  while 'voters' use a binom sample\n",
        "    model = sm.OLS(suffragiums, dataframe).fit()\n",
        "    # https://www.statsmodels.org/dev/examples/notebooks/generated/ols.html - [5]\n",
        "    # linear regression withiout β0\n",
        "    q_hat = prob * model.params \n",
        "    # probebilties for all parties which disaply the precentage * model.paramameters of OLS\n",
        "    # https://www.gurobi.com/documentation/9.1/refman/py_model_setparam.html - Example usage\n",
        "    q_hat = q_hat / q_hat.sum()  \n",
        "    return prob, q_hat, model.params "
      ],
      "execution_count": null,
      "outputs": []
    },
    {
      "cell_type": "markdown",
      "metadata": {
        "id": "3zfOtcxZBS4y"
      },
      "source": [
        "## Question 2\n",
        "\n",
        "\n"
      ]
    },
    {
      "cell_type": "markdown",
      "metadata": {
        "id": "0t3rjW72_CAL"
      },
      "source": [
        "Simulations same as in lab 3"
      ]
    },
    {
      "cell_type": "markdown",
      "metadata": {
        "id": "WzpUJxPT-PK6"
      },
      "source": [
        "From lab3: Function that recieves the N~ and V matrices and samples binomial votes"
      ]
    },
    {
      "cell_type": "code",
      "metadata": {
        "id": "8PmBu-E2ClOb"
      },
      "source": [
        "# from lab 2\n",
        "def binom_simlation(nij,Vij):\n",
        "  new_data = pd.DataFrame(np.random.binomial(nij,Vij))\n",
        "  new_data.index = df_2021.index\n",
        "  v = new_data.sum(axis=1)/ nij.sum(axis=1)\n",
        "  return new_data, v"
      ],
      "execution_count": null,
      "outputs": []
    },
    {
      "cell_type": "markdown",
      "metadata": {
        "id": "XaUdcGnwDtKX"
      },
      "source": [
        "#### Run simulations and apply corrections"
      ]
    },
    {
      "cell_type": "markdown",
      "metadata": {
        "id": "Vq7QLWalEMWK"
      },
      "source": [
        "Computing N~ and Vi for the 3 simulations as pwe lab 3:"
      ]
    },
    {
      "cell_type": "code",
      "metadata": {
        "id": "M3zzFBG2y0de"
      },
      "source": [
        "n_tilde = np.array(df_2021_new.mul(df_2021_raw['בזב'].sum()).div(df_2021_raw['כשרים'].sum()),dtype='int32')\n",
        "#N_tilde\n",
        "\n",
        "## 3 types of Vij in lab 3/Q2:\n",
        "\n",
        "# αi - i\n",
        "alpha = df_2021_raw['כשרים'].div(df_2021_raw['בזב'])\n",
        "\n",
        "# βj - ii\n",
        "\n",
        "beta = list([0.3,0.5,0.25,0.4,0.7,0.65,0.2,0.45,0.6,0.35,0.55,0.8,0.75])\n",
        "# βj randomly - iii\n",
        "beta_random = random.sample(beta, len(beta))\n",
        "\n",
        "\n",
        "dim_of_df = df_2021.shape\n",
        "\n",
        "Vai = np.tile(np.array([alpha]).transpose(), (1, len(names)))\n",
        "\n",
        "Vbj = np.tile(np.array(beta),(dim_of_df[0], 1))\n",
        "\n",
        "\n",
        "Vbj_random = np.tile(np.array(beta_random),(dim_of_df[0],1))\n",
        "\n"
      ],
      "execution_count": null,
      "outputs": []
    },
    {
      "cell_type": "code",
      "metadata": {
        "id": "VHHiuZyREEd_"
      },
      "source": [
        "def fixing_data(df, fix_param):\n",
        "  p = parties_above_blocking_precentage(df, 0) \n",
        "  q_hat = parties_above_blocking_precentage(df.div(fix_param, axis = \"rows\"), 0)\n",
        "  return q_hat\n"
      ],
      "execution_count": null,
      "outputs": []
    },
    {
      "cell_type": "code",
      "metadata": {
        "id": "es2WgNpK6g_H"
      },
      "source": [
        "def simulations(n,dataset,V):\n",
        "  p = np.zeros([n, 13])\n",
        "  q_hat = np.zeros([n, 13]) \n",
        "  q_hat_ols = np.zeros([n, 13]) \n",
        "\n",
        "  # in every simulation we calculate p and q_hat (after fixing the data)\n",
        "  for i in range(0,n):\n",
        "    new_df, v = binom_simlation(dataset,V)\n",
        "    q_hat[i,] = fixing_data(new_df, v)     #as per lab 3\n",
        "    p[i,], q_hat_ols[i,] = ols_correction(new_df, v)[0:2]\n",
        "\n",
        "\n",
        "  return p, q_hat, q_hat_ols\n"
      ],
      "execution_count": null,
      "outputs": []
    },
    {
      "cell_type": "code",
      "metadata": {
        "id": "Sj7vvY8b5igq"
      },
      "source": [
        "\n",
        "q_real = n_tilde.sum(axis=0)/(n_tilde.sum())\n",
        "\n",
        "sim_alpha = simulations(50, n_tilde, Vai)\n",
        "mean_p_ai = np.nanmean(sim_alpha[0],axis=0)\n",
        "mean_q_ai = np.nanmean(sim_alpha[1],axis=0)\n",
        "mean_q_ai_alpha = np.nanmean(sim_alpha[2],axis=0)\n",
        "\n",
        "##################################################\n",
        "sim_beta = simulations(50, n_tilde, Vbj)\n",
        "mean_p_beta = sim_beta[0].mean(axis=0) \n",
        "mean_q_beta = sim_beta[1].mean(axis=0) \n",
        "mean_q_beta_alpha = sim_beta[2].mean(axis=0)\n",
        "\n",
        "##################################################\n",
        "sim_beta_random = simulations(50, n_tilde, Vbj_random)\n",
        "mean_p_beta_random = sim_beta_random[0].mean(axis=0)\n",
        "mean_q_beta_random = sim_beta_random[1].mean(axis=0)\n",
        "mean_q_beta_random_alpha = sim_beta_random[2].mean(axis=0)\n",
        "\n"
      ],
      "execution_count": null,
      "outputs": []
    },
    {
      "cell_type": "code",
      "metadata": {
        "id": "450ecDyEmWTi",
        "colab": {
          "base_uri": "https://localhost:8080/",
          "height": 1000
        },
        "outputId": "fc84773a-e8d5-4caa-e6e0-3cba7363f908"
      },
      "source": [
        "def party_bar_fix(q_real, q_hat, q_hat_alpha, p, t):\n",
        "    width = 0.2  # set column width \n",
        "    #n = len(total_votes)\n",
        "    n = len(votes)\n",
        "\n",
        "    rev_names = [name[::-1] for name in list(names)]\n",
        "    fig, ax = plt.subplots(figsize=(10,8)) \n",
        "\n",
        "    q_real_bar = ax.bar(np.arange(n), list(q_real), width, color='lightblue')\n",
        "    q_hat_bar = ax.bar(np.arange(n)+width, q_hat, width, color='lightpink')\n",
        "    q_hat_alpha_bar = ax.bar(np.arange(n)+2*width, q_hat_alpha, width,  color='orange')\n",
        "    p_bar = ax.bar(np.arange(n)+3*width, p, width, color='lightgreen')\n",
        "\n",
        "\n",
        "    ax.set_ylabel('Votes percent')\n",
        "    ax.set_xlabel('Parties names')\n",
        "    ax.set_title('Simultions - Votes percent per party by '+ t)\n",
        "    ax.set_xticks(np.arange(n))\n",
        "    ax.set_xticklabels(rev_names)\n",
        "    ax.legend((q_real_bar, q_hat_bar, q_hat_alpha_bar, p_bar), ('q real', 'q hat', 'q hat alpha', 'p'))\n",
        "    plt.xticks(rotation=90, size = 12)\n",
        "    plt.show()\n",
        "\n",
        "    return fig, ax\n",
        "\n",
        "party_bar_fix(q_real, mean_q_ai,mean_q_ai_alpha, mean_p_ai,r'$\\alpha_{ij}$')\n",
        "\n",
        "party_bar_fix(q_real, mean_q_beta, mean_q_beta_alpha, mean_p_beta,  r'$\\beta_j$')\n",
        "\n",
        "party_bar_fix(q_real, mean_q_beta_random, mean_q_beta_random_alpha, mean_p_beta_random, r'random $\\beta_j$')\n",
        "\n"
      ],
      "execution_count": null,
      "outputs": [
        {
          "output_type": "display_data",
          "data": {
            "image/png": "[encoded data removed]",
            "text/plain": [
              "<Figure size 720x576 with 1 Axes>"
            ]
          },
          "metadata": {
            "needs_background": "light"
          }
        },
        {
          "output_type": "display_data",
          "data": {
            "image/png": "[encoded data removed]",
            "text/plain": [
              "<Figure size 720x576 with 1 Axes>"
            ]
          },
          "metadata": {
            "needs_background": "light"
          }
        },
        {
          "output_type": "display_data",
          "data": {
            "image/png": "[encoded data removed]",
            "text/plain": [
              "<Figure size 720x576 with 1 Axes>"
            ]
          },
          "metadata": {
            "needs_background": "light"
          }
        },
        {
          "output_type": "execute_result",
          "data": {
            "text/plain": [
              "(<Figure size 720x576 with 1 Axes>,\n",
              " <matplotlib.axes._subplots.AxesSubplot at 0x7f824d791cd0>)"
            ]
          },
          "metadata": {},
          "execution_count": 12
        }
      ]
    },
    {
      "cell_type": "markdown",
      "metadata": {
        "id": "ihh8F_IaAVUG"
      },
      "source": [
        "בהשווה לתיקון  במעבדה 3, תיקון זה פחות טוב.ערכי האומד לשכיחות האוכלוסיה של כל מפלגה\n",
        " יצאו פחות תואמים לקיו המקורי כפי שיצאו בתיקון הקודם שאינו עם אומד ריבועים פחותים. נעדיף \n",
        " שלא להשתמש בתיקון זה, שנראה כי בעל הטיה גדולה יותר בשונה מהמציאות.\n",
        " \n",
        " תזכורת - התיקון של מעבדה 3:\n",
        "\n",
        " A function that calculates the p and the $\\hat{q}$ (after fixing data to 100% votes with $V_i= \\frac{kosher_i}{bzb_i}$)\n",
        " \n"
      ]
    },
    {
      "cell_type": "markdown",
      "metadata": {
        "id": "MVoG9YfyRwgw"
      },
      "source": [
        "## Question 3"
      ]
    },
    {
      "cell_type": "code",
      "metadata": {
        "id": "g9n5ux4NTvmV"
      },
      "source": [
        "#upload the cities and \"eshkolot\" files.\n",
        "run_in_colab = False\n",
        "if 'google.colab' in str(get_ipython()):\n",
        "    run_in_colab = True\n",
        "    print('Running on CoLab')\n",
        "else:\n",
        "    print('Running locally on Jupyter')\n",
        "\n",
        " \n",
        "if run_in_colab:\n",
        "    from google.colab import files\n",
        "    uploaded = files.upload()"
      ],
      "execution_count": null,
      "outputs": []
    },
    {
      "cell_type": "code",
      "metadata": {
        "id": "ELhp34v4d3tn"
      },
      "source": [
        "if   run_in_colab:\n",
        "    df_2021_cities_raw = pd.read_csv(io.BytesIO(uploaded['votes per city 2021.csv']),  encoding = 'iso-8859-8', index_col='שם ישוב')\n",
        "    df_2021_eshkolot = pd.read_excel(io.BytesIO(uploaded['eshkol_hevrati_calcali.xlsx']), index_col='name')\n",
        "else:\n",
        "    df_2021_cities_raw = pd.read_csv(data_path + 'votes per city 2021.csv',  encoding = 'iso-8859-8', index_col='שם ישוב')  \n",
        "    df_2021_eshkolot = pd.read_excel('eshkol_hevrati_calcali.xlsx', index_col='name')\n",
        "\n",
        "df_cities = df_2021_cities_raw.drop('סמל ועדה', axis=1)\n",
        "df_cities = df_cities[df_cities.columns[5:-1]]\n",
        "df_cities['סמל ישוב'] = df_2021_cities_raw['סמל ישוב']\n",
        "df_cities = df_cities.rename(columns={'אמת' : \"עבודה\", 'מרצ' : \"מרצ\",  'ג' : \"יהדות התורה\", 'עם'  : \"רעם\",  'ת'  : \"תקוה חדשה\", 'ודעם'  : \"הרשימה המשותפת\", 'ב'  : \"ימינה\", 'ט'  : \"הציונות הדתית\",\n",
        " 'ל'  : \"ישראל ביתנו\", 'מחל'  : \"הליכוד\",  'פה'  : \"יש עתיד\", 'כן'  : \"כחול לבן\", 'שס'  : \"שס\"})"
      ],
      "execution_count": null,
      "outputs": []
    },
    {
      "cell_type": "code",
      "metadata": {
        "id": "8iMEHnQ8uMhY"
      },
      "source": [
        "#creating a merged data frame\n",
        "\n",
        "merged_data = df_cities.join(df_2021_eshkolot.set_index('set_code'), on='סמל ישוב')\n",
        "merged_data = merged_data.dropna()\n",
        "merged_data = merged_data.rename(columns={'אמת' : \"עבודה\", 'מרצ' : \"מרצ\",  'ג' : \"יהדות התורה\", 'עם'  : \"רעם\",  'ת'  : \"תקוה חדשה\", 'ודעם'  : \"הרשימה המשותפת\", 'ב'  : \"ימינה\", 'ט'  : \"הציונות הדתית\",\n",
        " 'ל'  : \"ישראל ביתנו\", 'מחל'  : \"הליכוד\",  'פה'  : \"יש עתיד\", 'כן'  : \"כחול לבן\", 'שס'  : \"שס\"})\n",
        "\n",
        "print(\"The number of shared cities is- \" + str(merged_data.shape[0]))"
      ],
      "execution_count": null,
      "outputs": []
    },
    {
      "cell_type": "code",
      "metadata": {
        "id": "0zRo0vHwvs2e"
      },
      "source": [
        "print(merged_data.index)"
      ],
      "execution_count": null,
      "outputs": []
    },
    {
      "cell_type": "code",
      "metadata": {
        "id": "-BWjzYqXvvdE"
      },
      "source": [
        "num_of_losts = df_cities.shape[0]-merged_data.shape[0]\n",
        "print(\"The number of cities we lost is- \" + str(num_of_losts))"
      ],
      "execution_count": null,
      "outputs": []
    },
    {
      "cell_type": "code",
      "metadata": {
        "id": "WzeyL2vOv4F7"
      },
      "source": [
        "df_eshkolot_cities = merged_data[names]\n",
        "shared_cities_precent = df_eshkolot_cities.sum().div(df_eshkolot_cities.sum().sum())\n",
        "all_cities_precent = df_cities[names].sum().div(df_cities[names].sum().sum())"
      ],
      "execution_count": null,
      "outputs": []
    },
    {
      "cell_type": "code",
      "metadata": {
        "id": "PFI7qIXXyAXE"
      },
      "source": [
        "def parties_bar(all_p, eshkolot_p):\n",
        "  width = 0.3\n",
        "  #n = len(total_votes)\n",
        "  n = len(votes)\n",
        "\n",
        "  rev_names = [name[::-1] for name in list(names)]\n",
        "  fig, ax = plt.subplots(figsize=(10,8)) \n",
        "\n",
        "  all_p = ax.bar(np.arange(n), list(all_p), width, color = 'lightblue')\n",
        "  eshkolot_p = ax.bar(np.arange(n)+width, list(eshkolot_p), width, color = 'orange')\n",
        "  ax.set_ylabel('Votes percent')\n",
        "  ax.set_xlabel('Parties names')\n",
        "  ax.set_title('Votes percent per party by all cities and only on socio cities')\n",
        "  ax.set_xticks(np.arange(n))\n",
        "  ax.set_xticklabels(rev_names)\n",
        "  ax.legend((all_p, eshkolot_p,), ('precent all cities', 'precent only socio cities'))\n",
        "  plt.xticks(rotation=90, size = 12)\n",
        "  plt.show()\n",
        "\n",
        "  return fig, ax\n",
        "\n",
        "parties_bar(all_cities_precent, shared_cities_precent)\n",
        "\n"
      ],
      "execution_count": null,
      "outputs": []
    },
    {
      "cell_type": "markdown",
      "metadata": {
        "id": "yRDjbYa_k5uf"
      },
      "source": [
        "##Question 4"
      ]
    },
    {
      "cell_type": "markdown",
      "metadata": {
        "id": "g_m7WISJlJNE"
      },
      "source": [
        "###a. Subplots of votes by eshkol"
      ]
    },
    {
      "cell_type": "code",
      "metadata": {
        "id": "iRX8EbECIC8y"
      },
      "source": [
        "fr_dict = {names[0]:list(),names[1]:list(),names[2]:list(),names[3]:list(),names[4]:list(),names[5]:list(),names[6]:list(),names[7]:list(), names[8]:list(), names[9]:list(), names[10]:list(), names[11]:list(), names[12]:list()}\n",
        "\n",
        "for eshkol in range(10):\n",
        "  cities = np.where(merged_data['eco_level'].values.astype('float') == eshkol+1)[0]\n",
        "  percent4 = merged_data.iloc[cities][names].sum().div(merged_data.iloc[cities][names].sum().sum())\n",
        "  parties = percent4.keys()\n",
        "  for j in range(len(names)):\n",
        "    fr_dict[parties[j]].append(percent4[j])\n",
        "\n",
        "freq_df = pd.DataFrame(fr_dict, index=list(range(1, 11)))"
      ],
      "execution_count": null,
      "outputs": []
    },
    {
      "cell_type": "code",
      "metadata": {
        "id": "Qcqqtc2eTtlz"
      },
      "source": [
        "rev_names = [name[::-1] for name in list(names)]\n",
        "color_vec= ['peachpuff','lightsalmon','salmon','darksalmon','rosybrown','plum','cadetblue','skyblue','mediumspringgreen','palegreen']\n",
        "\n",
        "figure(figsize=(20,10))\n",
        "for i in range(10):\n",
        "  plt.subplot(2,5,i+1)\n",
        "  plt.title('Eshkol %i' %(i+1),fontsize=16)\n",
        "  plt.ylabel(\"Votes rate\",fontsize=13)\n",
        "  plt.xlabel(\"parties\",labelpad=-15,fontsize=13)\n",
        "  plt.xticks(rotation=90,fontsize=11)\n",
        "  plt.bar(rev_names,freq_df.iloc[i,:],color=color_vec[i])\n",
        "  plt.tight_layout()"
      ],
      "execution_count": null,
      "outputs": []
    },
    {
      "cell_type": "markdown",
      "metadata": {
        "id": "k3cVXPsDlQff"
      },
      "source": [
        "###b. Subplots of votes percentages by eshkol"
      ]
    },
    {
      "cell_type": "code",
      "metadata": {
        "id": "jKoYiP7SZC69"
      },
      "source": [
        "color_vec2 = ['mediumorchid','crimson','coral','yellow','crimson','coral','yellow','lawngreen','coral','yellow','lawngreen','dodgerblue','yellow']\n",
        "\n",
        "figure(figsize=(20,10))\n",
        "for i in range(len(names)):\n",
        "  plt.subplot(4,4,i+1)\n",
        "  plt.title(rev_names[i], fontsize=16)\n",
        "  plt.ylabel('Votes rate',fontsize=13)\n",
        "  plt.xlabel('Social Eshkol', fontsize=13)\n",
        "  plt.xticks(fontsize=11)\n",
        "  plt.xlim([1,10])\n",
        "  plt.bar(freq_df.index,freq_df.iloc[:,i],color=color_vec2[i])\n",
        "  plt.tight_layout()"
      ],
      "execution_count": null,
      "outputs": []
    },
    {
      "cell_type": "markdown",
      "metadata": {
        "id": "ML0EsiywHkE7"
      },
      "source": [
        "Bar plots for each party, showing voting rates from each social eshkol. There are 13 polts in a 4x4 grid, such that the last three sopts are empty."
      ]
    }
  ]
}
