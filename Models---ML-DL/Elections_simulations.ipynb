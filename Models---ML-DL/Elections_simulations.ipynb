{
  "nbformat": 4,
  "nbformat_minor": 0,
  "metadata": {
    "colab": {
      "name": "Elections simulations.ipynb",
      "provenance": [],
      "collapsed_sections": []
    },
    "kernelspec": {
      "display_name": "Python 3",
      "name": "python3"
    },
    "language_info": {
      "name": "python"
    }
  },
  "cells": [
    {
      "cell_type": "markdown",
      "metadata": {
        "id": "xli9R4i4j2Nh"
      },
      "source": [
        "##** Elections simulations**##"
      ]
    },
    {
      "cell_type": "code",
      "metadata": {
        "colab": {
          "resources": {
            "http://localhost:8080/nbextensions/google.colab/files.js": {
              "data": "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",
              "ok": true,
              "headers": [
                [
                  "content-type",
                  "application/javascript"
                ]
              ],
              "status": 200,
              "status_text": ""
            }
          },
          "base_uri": "https://localhost:8080/",
          "height": 89
        },
        "id": "HskRal5BWuzV",
        "outputId": "ed2cbd84-06f4-4842-9d12-e7e20babb1fc"
      },
      "source": [
        "run_in_colab = False\n",
        "if 'google.colab' in str(get_ipython()):\n",
        "    run_in_colab = True\n",
        "    print('Running on CoLab')\n",
        "else:\n",
        "    print('Running locally on Jupyter')\n",
        "if run_in_colab:\n",
        "   from google.colab import files\n",
        "   uploaded = files.upload()"
      ],
      "execution_count": null,
      "outputs": [
        {
          "output_type": "stream",
          "name": "stdout",
          "text": [
            "Running on CoLab\n"
          ]
        },
        {
          "output_type": "display_data",
          "data": {
            "text/html": [
              "\n",
              "     <input type=\"file\" id=\"files-400667fa-7ac3-4b7f-8088-88a6b3ca43b0\" name=\"files[]\" multiple disabled\n",
              "        style=\"border:none\" />\n",
              "     <output id=\"result-400667fa-7ac3-4b7f-8088-88a6b3ca43b0\">\n",
              "      Upload widget is only available when the cell has been executed in the\n",
              "      current browser session. Please rerun this cell to enable.\n",
              "      </output>\n",
              "      <script src=\"/nbextensions/google.colab/files.js\"></script> "
            ],
            "text/plain": [
              "<IPython.core.display.HTML object>"
            ]
          },
          "metadata": {}
        },
        {
          "output_type": "stream",
          "name": "stdout",
          "text": [
            "Saving votes per ballot 2021.csv to votes per ballot 2021 (1).csv\n"
          ]
        }
      ]
    },
    {
      "cell_type": "code",
      "metadata": {
        "id": "o6_R4HKrI5P_"
      },
      "source": [
        "# Import modules - from previous lectures & labs 1-2 and web instructions\n",
        "import io\n",
        "import numpy as np\n",
        "import pandas as pd\n",
        "import statsmodels.api as sm\n",
        "import matplotlib as mp\n",
        "import matplotlib.pyplot as plt\n",
        "import sys\n",
        "from scipy import stats\n",
        "import statsmodels.api as sm\n",
        "import random # Of random import sample # Q 2,a\n"
      ],
      "execution_count": null,
      "outputs": []
    },
    {
      "cell_type": "code",
      "metadata": {
        "id": "ztIoOqaQQVKG"
      },
      "source": [
        "# From previous lectures\n",
        "data_type = \"ballot\"  # city\n",
        "if   run_in_colab:\n",
        "    df_2021_raw = pd.read_csv(io.BytesIO(uploaded['votes per ballot 2021.csv']),  encoding = 'iso-8859-8', index_col='שם ישוב')\n",
        "else:  # read local file\n",
        "    if data_type == \"ballot\":\n",
        "        df_2021_raw = pd.read_csv(data_path + 'votes per ballot 2021.csv',  encoding = 'iso-8859-8', index_col='שם ישוב')\n",
        "        # preprocessing of ballot\n",
        "        df_2021 = df_2021_raw.drop('סמל ועדה', axis=1) # new column added in Sep 2019\n",
        "        df_2021 = df_2021[df_2021.columns[8:-1]] # removing \"metadata\" columns\n",
        "    else:\n",
        "        df_2021_raw = pd.read_csv(data_path + 'votes per city 2021.csv',  encoding = 'iso-8859-8', index_col='שם ישוב')\n",
        "        # preprocessing of cities \n",
        "        df_2021 = df_2021_raw.drop('סמל ועדה', axis=1) # new column added in Sep 2019\n",
        "        df_2021 = df_2021[df_2021.columns[5:-1]] # removing \"metadata\" columns\n",
        "# Dataset is now stored in a Pandas Dataframe\n",
        "df_2021_raw = df_2021_raw[df_2021_raw.index != 'מעטפות חיצוניות']"
      ],
      "execution_count": null,
      "outputs": []
    },
    {
      "cell_type": "code",
      "metadata": {
        "id": "ivrT2dXgJq4p"
      },
      "source": [
        "# From previous lectures\n",
        "df_2021 = df_2021_raw\n",
        "df_2021 = df_2021[df_2021.columns[10:-1]] # removing \"metadata\" columns"
      ],
      "execution_count": null,
      "outputs": []
    },
    {
      "cell_type": "code",
      "metadata": {
        "id": "F9rwZzTeRO9N"
      },
      "source": [
        "# Using the function from lab 1 and 2 that keeps only the 13 parties above the blocking precentage\n",
        "def parties_above_blocking_precentage(df, threshold):\n",
        "  precent = df.sum().div(df.sum().sum()).sort_values(ascending = False)\n",
        "  return precent [precent >= threshold]"
      ],
      "execution_count": null,
      "outputs": []
    },
    {
      "cell_type": "code",
      "metadata": {
        "id": "vTLkyioz6OHT"
      },
      "source": [
        "# Using lecture 2 dict to change columns names to the original parties names, for better display\n",
        "df_2021_new = df_2021.rename(columns={'אמת' : \"עבודה\", 'מרצ' : \"מרצ\",  'ג' : \"יהדות התורה\", 'עם'  : \"רעם\",  'ת'  : \"תקוה חדשה\", 'ודעם'  : \"הרשימה המשותפת\", 'ב'  : \"ימינה\", 'ט'  : \"הציונות הדתית\",\n",
        " 'ל'  : \"ישראל ביתנו\", 'מחל'  : \"הליכוד\",  'פה'  : \"יש עתיד\", 'כן'  : \"כחול לבן\", 'שס'  : \"שס\"})\n",
        "total_parties = parties_above_blocking_precentage(df_2021_new, 0.0125) # 0.0325 ruturn only 11 parties\n",
        "parties_names = total_parties.keys()"
      ],
      "execution_count": null,
      "outputs": []
    },
    {
      "cell_type": "code",
      "metadata": {
        "id": "eTh97Xeh6QeV"
      },
      "source": [
        "# creating the data with the 13 relevent parties, op = Original Parties names\n",
        "df_2021_op = df_2021_new[parties_names]\n",
        "# df_2021_op # checking the 13 parties "
      ],
      "execution_count": null,
      "outputs": []
    },
    {
      "cell_type": "markdown",
      "metadata": {
        "id": "Plx5vnDUQqKU"
      },
      "source": [
        "## Question 1 ##"
      ]
    },
    {
      "cell_type": "markdown",
      "metadata": {
        "id": "d1ttrGEz9wYF"
      },
      "source": [
        "General function which calculate the acctual voters as per different conditinos"
      ]
    },
    {
      "cell_type": "code",
      "metadata": {
        "id": "A6I6WMiJn5Zz"
      },
      "source": [
        "def binominal_simulation(dataset,Vij):\n",
        "  # The function receive a data frame and Vij the probebilty that a voter will vote eventualyy\n",
        "\n",
        "  binom_table = pd.DataFrame(np.random.binomial(dataset,Vij))\n",
        "  \n",
        "  # Using the random binominal func of pandas as instructed\n",
        "\n",
        "  binom_table.index = df_2021_op.index\n",
        "  \n",
        "  # dataframe.index used to access the index of the column on the Data\n",
        "\n",
        "  return binom_table   # We will return a new and calculated data frame which display the actual voters - Nij"
      ],
      "execution_count": null,
      "outputs": []
    },
    {
      "cell_type": "markdown",
      "metadata": {
        "id": "slcmQXrBAFE4"
      },
      "source": [
        "##Question 2:##\n",
        "\n",
        "\n"
      ]
    },
    {
      "cell_type": "code",
      "metadata": {
        "id": "fsEWXY6_Ia3b"
      },
      "source": [
        "nij_hat = np.array(df_2021_op.mul(df_2021_raw['בזב'].sum()).div(df_2021_raw['כשרים'].sum()),dtype='int32')"
      ],
      "execution_count": null,
      "outputs": []
    },
    {
      "cell_type": "code",
      "metadata": {
        "id": "Ce-J99Cx_o8m"
      },
      "source": [
        "## 3 types of Vij in Q2:\n",
        "\n",
        "# αi - i\n",
        "alpha = df_2021_raw['כשרים'].div(df_2021_raw['בזב'])\n",
        "\n",
        "# βj - ii\n",
        "beta = list([0.3,0.5,0.25,0.4,0.7,0.65,0.2,0.45,0.6,0.35,0.55,0.8,0.75])\n",
        "\n",
        "# βj randomly - iii\n",
        "beta_random = random.sample(beta, len(beta))"
      ],
      "execution_count": null,
      "outputs": []
    },
    {
      "cell_type": "code",
      "metadata": {
        "id": "xwqYC_7lANgP"
      },
      "source": [
        "dim_of_df = df_2021_op.shape\n",
        "\n",
        "Vai = np.tile(np.array([alpha]).transpose(), (1, len(parties_names)))\n",
        "Vbj = np.tile(np.array(beta),(dim_of_df[0], 1))\n",
        "\n",
        "Vbj_random = np.tile(np.array(beta_random),(dim_of_df[0],1))\n"
      ],
      "execution_count": null,
      "outputs": []
    },
    {
      "cell_type": "code",
      "metadata": {
        "id": "aLQYtw3IytzE"
      },
      "source": [
        "def data_correction(df, fix_param):\n",
        "  p = parties_above_blocking_precentage(df, 0.0125) \n",
        "  q_hat = parties_above_blocking_precentage(df.div(fix_param, axis = \"rows\"), 0.0125)\n",
        "  return [p, q_hat]"
      ],
      "execution_count": null,
      "outputs": []
    },
    {
      "cell_type": "markdown",
      "metadata": {
        "id": "_KJKnR4N32kA"
      },
      "source": [
        "##2.a\n",
        " Function that performs a certain number of simulations, in our case: 50."
      ]
    },
    {
      "cell_type": "code",
      "metadata": {
        "id": "iPm-HtZNzpup"
      },
      "source": [
        "def simulations(f_parameter,number_of_sims,nij,vij):\n",
        "  q_j = np.zeros([number_of_sims, 13])\n",
        "  p = np.zeros([number_of_sims, 13]) \n",
        "  # after correcting the data\n",
        "  for i in range(0,number_of_sims):\n",
        "    p[i,], q_j[i,] = data_correction(binominal_simulation(nij,vij), f_parameter)\n",
        "\n",
        "  return p, q_j\n"
      ],
      "execution_count": null,
      "outputs": []
    },
    {
      "cell_type": "code",
      "metadata": {
        "id": "wUXlP1_tE_yz"
      },
      "source": [
        "n = 50"
      ],
      "execution_count": null,
      "outputs": []
    },
    {
      "cell_type": "code",
      "metadata": {
        "id": "fEPKMhQL-CY8"
      },
      "source": [
        "q_real = nij_hat.sum(axis=0)/(nij_hat.sum())"
      ],
      "execution_count": null,
      "outputs": []
    },
    {
      "cell_type": "code",
      "metadata": {
        "id": "r7H9hrvqNktt"
      },
      "source": [
        "# i\n",
        "sim_alpha = simulations(alpha, n, nij_hat ,Vai)\n",
        "# ii\n",
        "sim_beta = simulations(alpha, n, nij_hat, Vbj)\n",
        "# iii\n",
        "sim_beta_random = simulations(alpha, n, nij_hat, Vbj_random)\n"
      ],
      "execution_count": null,
      "outputs": []
    },
    {
      "cell_type": "markdown",
      "metadata": {
        "id": "pKvc4VF1wL_1"
      },
      "source": [
        "##2.b"
      ]
    },
    {
      "cell_type": "code",
      "metadata": {
        "id": "RDFEzJZSwLpt"
      },
      "source": [
        "n = 50 # number of simulations\n",
        "q_real = nij_hat.sum(axis=0)/(nij_hat.sum())\n",
        "pd.DataFrame(q_real)"
      ],
      "execution_count": null,
      "outputs": []
    },
    {
      "cell_type": "markdown",
      "metadata": {
        "id": "CiqWIMU2GbYh"
      },
      "source": [
        "##2.c"
      ]
    },
    {
      "cell_type": "code",
      "metadata": {
        "id": "VQTwL-ngGeES"
      },
      "source": [
        "\n",
        "mean_p_alpha = sim_alpha[0].mean(axis=0)\n",
        "mean_q_alpha = sim_alpha[1].mean(axis=0)\n",
        "bias_q_alpha = mean_q_alpha - q_real\n",
        "var_q_alpha = sim_alpha[1].var(axis=0)\n",
        "mse_q_alpha = var_q_alpha + bias_q_alpha**2\n",
        "\n",
        "mean_p_beta = sim_beta[0].mean(axis=0) \n",
        "mean_q_beta = sim_beta[1].mean(axis=0) \n",
        "bias_q_beta = mean_q_beta - q_real\n",
        "var_q_beta = sim_beta[1].var(axis=0)\n",
        "mse_q_beta = var_q_beta + bias_q_beta**2\n",
        "\n",
        "mean_p_beta_random = sim_beta_random[0].mean(axis=0)\n",
        "mean_q_beta_random = sim_beta_random[1].mean(axis=0)\n",
        "bias_q_beta_random = mean_q_beta_random - q_real\n",
        "var_q_beta_random = sim_beta_random[1].var(axis=0)\n",
        "mse_q_beta_random = var_q_beta_random + bias_q_beta_random**2"
      ],
      "execution_count": null,
      "outputs": []
    },
    {
      "cell_type": "code",
      "metadata": {
        "id": "4HjNMxQUzJJU"
      },
      "source": [
        "pd.DataFrame( [q_real, mean_q_alpha, mean_q_beta, mean_q_beta_random], columns= parties_names, index=['real q', 'mean fixed with alpha', 'mean fixed with beta', 'mean fixed with beta random']).style.set_caption('Mean comparison')"
      ],
      "execution_count": null,
      "outputs": []
    },
    {
      "cell_type": "code",
      "metadata": {
        "id": "xvkWI5S10TYA"
      },
      "source": [
        "pd.DataFrame( [bias_q_alpha, bias_q_beta, bias_q_beta_random], columns= parties_names, index=[ 'bias fixed with alpha', 'bias fixed with beta', 'bias fixed with beta random']).style.set_caption('Bias comparison')"
      ],
      "execution_count": null,
      "outputs": []
    },
    {
      "cell_type": "code",
      "metadata": {
        "id": "p5Go20i5HzzR"
      },
      "source": [
        "var_q_alpha_df = np.round(var_q_alpha,11)*100000\n",
        "var_q_beta_df = np.round(var_q_beta,11)*100000\n",
        "var_q_beta_random_df = np.round(var_q_beta_random,11)*100000\n",
        "\n",
        "pd.DataFrame( [var_q_alpha_df, var_q_beta_random, var_q_beta_random_df], columns= parties_names, index=[ 'var fixed with alpha - multiplied by 100', 'var fixed with beta - multiplied by 100', 'var fixed with beta random - multiplied by 100']).style.set_caption('Variance comparison, scaled up by 10^5 because values are close to 0')"
      ],
      "execution_count": null,
      "outputs": []
    },
    {
      "cell_type": "code",
      "metadata": {
        "id": "rwcyodpp2N75"
      },
      "source": [
        "mse_q_alpha_df = np.round(mse_q_alpha,8)*100\n",
        "mse_q_beta_df = np.round(mse_q_beta,8)*100\n",
        "mse_q_beta_random_df = np.round(mse_q_beta_random,8)*100\n",
        "\n",
        "dfof2c= pd.DataFrame( [mse_q_alpha_df, mse_q_beta_df, mse_q_beta_random_df], columns= parties_names, index=[ 'mse fixed with alpha i - multiplied by 100', 'mse fixed with beta j- multiplied by 100', 'mse fixed with beta j random- multiplied by 100'])\n",
        "dfof2c.style.set_table_attributes(\"style='display:inline'\").set_caption('Fixed MSE of q with α, β and random β, scaled up by 100 because values are close to 0')\n"
      ],
      "execution_count": null,
      "outputs": []
    },
    {
      "cell_type": "markdown",
      "metadata": {
        "id": "SesnQ7zEE_dC"
      },
      "source": [
        "It seems α is the most accurate of the three corrections. It's means are closest to the real q, it's biases, variances and MSEs are closest to zero. β random seems a little more random and less consistant than β."
      ]
    },
    {
      "cell_type": "markdown",
      "metadata": {
        "id": "jPOR8bd92ujc"
      },
      "source": [
        "##2.d"
      ]
    },
    {
      "cell_type": "code",
      "metadata": {
        "id": "r_Ned_mg213M",
        "colab": {
          "base_uri": "https://localhost:8080/",
          "height": 1000
        },
        "outputId": "a979892a-2250-4abc-962a-f25bbe7e29cd"
      },
      "source": [
        "# Bar plot for a party, only showing values above a certain threshold after correction:\n",
        "def party_bar_fix(q_real, q_hat, p, v):\n",
        "    width = 0.3\n",
        "    n = len(total_parties)\n",
        "\n",
        "    rev_names = [name[::-1] for name in list(parties_names)]\n",
        "    fig, ax = plt.subplots(figsize=(10,8))    \n",
        "\n",
        "    q_real_bar = ax.bar(np.arange(n), list(q_real), width, color='lightblue')\n",
        "    q_hat_bar = ax.bar(np.arange(n)+width, q_hat, width, color='orange')\n",
        "    p_bar = ax.bar(np.arange(n)+2*width, p, width, color='lightpink')\n",
        "\n",
        "    ax.set_ylabel('Votes percent')\n",
        "    ax.set_xlabel('Parties Names')\n",
        "    ax.set_title('Simulation of vote precentage per party using ' + v)\n",
        "    ax.set_xticks(np.arange(n))\n",
        "    ax.set_xticklabels(rev_names)\n",
        "    ax.legend((q_real_bar, q_hat_bar, p_bar), ('q real', 'q hat', 'p'))\n",
        "    plt.xticks(rotation=90)\n",
        "    plt.show()\n",
        "\n",
        "    return fig, ax\n",
        "\n",
        "v1 = 'α'\n",
        "v2 = 'β'\n",
        "v3 = 'β random'\n",
        "party_bar_fix(q_real, mean_q_alpha, mean_p_alpha, v1)\n",
        "party_bar_fix(q_real, mean_q_beta, mean_p_beta, v2)\n",
        "party_bar_fix(q_real, mean_q_beta_random, mean_p_beta_random, v3)"
      ],
      "execution_count": null,
      "outputs": [
        {
          "output_type": "display_data",
          "data": {
            "image/png": "[encoded data removed]",
            "text/plain": [
              "<Figure size 720x576 with 1 Axes>"
            ]
          },
          "metadata": {
            "needs_background": "light"
          }
        },
        {
          "output_type": "display_data",
          "data": {
            "image/png": "[encoded data removed]",
            "text/plain": [
              "<Figure size 720x576 with 1 Axes>"
            ]
          },
          "metadata": {
            "needs_background": "light"
          }
        },
        {
          "output_type": "display_data",
          "data": {
            "image/png": "[encoded data removed]",
            "text/plain": [
              "<Figure size 720x576 with 1 Axes>"
            ]
          },
          "metadata": {
            "needs_background": "light"
          }
        },
        {
          "output_type": "execute_result",
          "data": {
            "text/plain": [
              "(<Figure size 720x576 with 1 Axes>,\n",
              " <matplotlib.axes._subplots.AxesSubplot at 0x7efbbc8328d0>)"
            ]
          },
          "metadata": {},
          "execution_count": 53
        }
      ]
    }
  ]
}
